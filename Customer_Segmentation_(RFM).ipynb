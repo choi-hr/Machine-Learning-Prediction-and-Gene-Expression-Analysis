{
  "metadata": {
    "kernelspec": {
      "language": "python",
      "display_name": "Python 3",
      "name": "python3"
    },
    "language_info": {
      "name": "python",
      "version": "3.7.6",
      "mimetype": "text/x-python",
      "codemirror_mode": {
        "name": "ipython",
        "version": 3
      },
      "pygments_lexer": "ipython3",
      "nbconvert_exporter": "python",
      "file_extension": ".py"
    },
    "kaggle": {
      "accelerator": "none",
      "dataSources": [
        {
          "sourceId": 5596,
          "sourceType": "datasetVersion",
          "datasetId": 3466
        }
      ],
      "dockerImageVersionId": 29974,
      "isInternetEnabled": true,
      "language": "python",
      "sourceType": "notebook",
      "isGpuEnabled": false
    },
    "colab": {
      "name": "Customer Segmentation (RFM)",
      "provenance": []
    }
  },
  "nbformat_minor": 0,
  "nbformat": 4,
  "cells": [
    {
      "source": [
        "# IMPORTANT: RUN THIS CELL IN ORDER TO IMPORT YOUR KAGGLE DATA SOURCES,\n",
        "# THEN FEEL FREE TO DELETE THIS CELL.\n",
        "# NOTE: THIS NOTEBOOK ENVIRONMENT DIFFERS FROM KAGGLE'S PYTHON\n",
        "# ENVIRONMENT SO THERE MAY BE MISSING LIBRARIES USED BY YOUR\n",
        "# NOTEBOOK.\n",
        "import kagglehub\n",
        "vijayuv_onlineretail_path = kagglehub.dataset_download('vijayuv/onlineretail')\n",
        "\n",
        "print('Data source import complete.')\n"
      ],
      "metadata": {
        "id": "alFaqbJp1p10"
      },
      "cell_type": "code",
      "outputs": [],
      "execution_count": null
    },
    {
      "cell_type": "markdown",
      "source": [
        "# Segmentasi Customer (Metode RFM)"
      ],
      "metadata": {
        "id": "8PWYEgN81p13"
      }
    },
    {
      "cell_type": "markdown",
      "source": [
        "Halo teman-teman, bagaimana kabar kalian semua? saya harap kalian semua baik-baik saja ya. Kali ini saya ingin mendemonstrasikan cara mensegmentasikan customer (Metode RFM) menggunakan library Lifetimes dan juga K-means.\n",
        "\n",
        "tapi sebelum masuk ke RFM nya, saya ingin menunjukkan terlebih dahulu tipe-tipe segmentasi yang ada:"
      ],
      "metadata": {
        "id": "HfcB0PoD1p16"
      }
    },
    {
      "cell_type": "markdown",
      "source": [
        "### Tipe-Tipe Segmentasi:\n",
        "\n",
        "- Demographic: variabelnya: usia, gender, status pernikahan, pekerjaan.\n",
        "- Geographic: variabelnya: lokasi, wilayah, pedesaan.\n",
        "- Behavioral: variabelnya: pengeluaran, kebiasaan customer, penggunaan produk, produk yang dibeli sebelumnya.\n",
        "- Psychographic: variabelnya: status sosial, gaya hidup, karakter personal."
      ],
      "metadata": {
        "id": "QUxMsr031p16"
      }
    },
    {
      "cell_type": "markdown",
      "source": [
        "Oh ya, sebetulnya ngga harus pake K-means sih, kalian bisa pakai algoritma clustering apapun, berhubung data penting yang akan kita modelkan adalah numerical semua (Recency, Frequency, Monetary Value, dan Invoicedate adalah data numerical ), dan juga K-means ini adalah algoritma yang simpel, jadi ya saya pakai K-means deh.\n",
        "\n",
        "Alasan lain yang menguatkan saya untuk memilih K-means adalah karena saya teringat pesan dari kak Wira: \"always start with simple model\". Siapa itu kak Wira? beliau adalah instruktur saya, hehe. Kenapa harus start with simple model? karena.... alasannya banyakkk, dan saya tidak akan menjabarkannya disini (mungkin akan saya ceritakan dilain notebook). Oke lanjut ke RFM nya ya.\n",
        "\n",
        "RFM adalah metode yang digunakan untuk mensegmentasikan customer berdasarkan kebiasaan perilaku pembeliannya. RFM ini termasuk kedalam tipe segmentasi Behavioral. Berikut adalah definisi masing-masing komponen dari RFM:\n",
        "\n",
        "- Recency: Recency adalah jarak waktu tidak aktifnya customer setelah mereka melakukan pembelian yang paling terbaru(recent). *jika customer hanya melakukan satu kali pembelian, maka recency-nya adalah 0.\n",
        "\n",
        "\n",
        "- Frequency: Angka pembelian *ulang*/ repetisi pembelian yang dilakukan customer. Atau sama dengan total pembelian dikurangi satu.\n",
        "\n",
        "\n",
        "- Mean Moneter Value: rata-rata nilai uang yang telah dihabiskan oleh pelanggan dalam periode waktu tertentu. ini sama dengan jumlah semua pembelian customer dibagi dengan angka total pembelian (berapa kali customer melakukan pembelian).\n",
        "\n",
        "RFM dapat digunakan untuk mengenal basis customer dengan baik. Salah satu  contoh pemanfaatnya adalah, jika sebelumnya kalian memberikan treatment yang sama terhadap semua jenis customer yang ada, maka dengan RFM ini kalian bisa lebih spesifik dalam mengidentifikasi segmen yang ada, lalu menerapkan strategi pendekatan yang berbeda antar segmen. Agar lebih jelas, yuk ikuti terus kelanjutannya."
      ],
      "metadata": {
        "id": "dTxsny0V1p17"
      }
    },
    {
      "cell_type": "markdown",
      "source": [
        "## Import Packages dan Data"
      ],
      "metadata": {
        "id": "hEXHUsEt1p17"
      }
    },
    {
      "cell_type": "markdown",
      "source": [
        "Kita akan gunakan library Lifetimes terlebih dahulu, Lifetimes adalah library Python yang bisa digunakan untuk analisa customer, selain itu Lifetimes juga bisa membuat model RFM berdasarkan data transaksional, dan fitur inilah yang akan kita gunakan."
      ],
      "metadata": {
        "id": "Q61l3sPp1p18"
      }
    },
    {
      "cell_type": "code",
      "source": [
        "import os\n",
        "for dirname, _, filenames in os.walk('/kaggle/input'):\n",
        "    for filename in filenames:\n",
        "        print(os.path.join(dirname, filename))"
      ],
      "metadata": {
        "_kg_hide-output": true,
        "_kg_hide-input": true,
        "execution": {
          "iopub.status.busy": "2024-05-15T19:22:16.745703Z",
          "iopub.execute_input": "2024-05-15T19:22:16.746445Z",
          "iopub.status.idle": "2024-05-15T19:22:16.758213Z",
          "shell.execute_reply.started": "2024-05-15T19:22:16.746381Z",
          "shell.execute_reply": "2024-05-15T19:22:16.757068Z"
        },
        "trusted": true,
        "id": "lJoCuCp81p18"
      },
      "execution_count": null,
      "outputs": []
    },
    {
      "cell_type": "code",
      "source": [
        "%matplotlib inline\n",
        "!pip install lifetimes\n",
        "!pip install jcopml\n",
        "\n",
        "import pandas as pd\n",
        "import numpy as np\n",
        "import matplotlib.pyplot as plt\n",
        "import seaborn as sns\n",
        "from lifetimes.utils import summary_data_from_transaction_data\n",
        "from jcopml.plot import plot_missing_value"
      ],
      "metadata": {
        "_kg_hide-output": true,
        "execution": {
          "iopub.status.busy": "2024-05-15T19:22:39.107734Z",
          "iopub.execute_input": "2024-05-15T19:22:39.108238Z",
          "iopub.status.idle": "2024-05-15T19:22:40.190197Z",
          "shell.execute_reply.started": "2024-05-15T19:22:39.108183Z",
          "shell.execute_reply": "2024-05-15T19:22:40.189283Z"
        },
        "trusted": true,
        "id": "txvvIDFv1p18"
      },
      "execution_count": null,
      "outputs": []
    },
    {
      "cell_type": "markdown",
      "source": [
        "Import data."
      ],
      "metadata": {
        "id": "bPyEGKL91p18"
      }
    },
    {
      "cell_type": "code",
      "source": [
        "df = pd.read_csv(\"/kaggle/input/onlineretail/OnlineRetail.csv\",error_bad_lines=False, encoding='unicode_escape')\n",
        "df.head()"
      ],
      "metadata": {
        "scrolled": true,
        "execution": {
          "iopub.status.busy": "2024-05-15T19:22:40.192443Z",
          "iopub.execute_input": "2024-05-15T19:22:40.192764Z",
          "iopub.status.idle": "2024-05-15T19:22:41.777973Z",
          "shell.execute_reply.started": "2024-05-15T19:22:40.192733Z",
          "shell.execute_reply": "2024-05-15T19:22:41.776747Z"
        },
        "trusted": true,
        "id": "F2X5Wd8j1p19"
      },
      "execution_count": null,
      "outputs": []
    },
    {
      "cell_type": "markdown",
      "source": [
        "## Quick EDA (Exploratory Data Analysis)"
      ],
      "metadata": {
        "id": "CuRakDA91p19"
      }
    },
    {
      "cell_type": "markdown",
      "source": [
        "Terdapat 4 kolom penting yang dapat kita gunakan untuk membuat segmentasi customer RFM, yaitu:\n",
        "\n",
        "- Quantity\n",
        "- UnitPrice\n",
        "- CustomerID\n",
        "- InvoiceDate\n",
        "\n",
        "Kita coba lakukan beberapa pengecekkan untuk mengetahui gambaran secara umum kondisi data kita."
      ],
      "metadata": {
        "id": "aug6w7Z31p19"
      }
    },
    {
      "cell_type": "markdown",
      "source": [
        "### Data Types"
      ],
      "metadata": {
        "id": "jwg4lSj31p1-"
      }
    },
    {
      "cell_type": "code",
      "source": [
        "df.dtypes"
      ],
      "metadata": {
        "execution": {
          "iopub.status.busy": "2024-05-15T19:22:41.779757Z",
          "iopub.execute_input": "2024-05-15T19:22:41.78018Z",
          "iopub.status.idle": "2024-05-15T19:22:41.788599Z",
          "shell.execute_reply.started": "2024-05-15T19:22:41.780143Z",
          "shell.execute_reply": "2024-05-15T19:22:41.787702Z"
        },
        "trusted": true,
        "id": "J_Yq6mo11p1-"
      },
      "execution_count": null,
      "outputs": []
    },
    {
      "cell_type": "markdown",
      "source": [
        "### Plot Missing Value"
      ],
      "metadata": {
        "id": "vaD0-x121p1-"
      }
    },
    {
      "cell_type": "code",
      "source": [
        "plot_missing_value(df, return_df = True)"
      ],
      "metadata": {
        "execution": {
          "iopub.status.busy": "2024-05-15T19:22:41.790103Z",
          "iopub.execute_input": "2024-05-15T19:22:41.790494Z",
          "iopub.status.idle": "2024-05-15T19:26:15.579303Z",
          "shell.execute_reply.started": "2024-05-15T19:22:41.790456Z",
          "shell.execute_reply": "2024-05-15T19:26:15.578149Z"
        },
        "trusted": true,
        "id": "gi10xPW51p1-"
      },
      "execution_count": null,
      "outputs": []
    },
    {
      "cell_type": "markdown",
      "source": [
        "Sangat disayangkan value CustomerID banyak yang hilang, padahal library Lifetimes bergantung pada CustomerID untuk membuat segmentasi RFM. Mau tidak mau nantinya kita akan lakukan drop out terhadap value CustomerID yang bolong. Meskipun nantinya Lifetimes akan melakukannya secara otomatis, namun kita akan melakukannya secara manual."
      ],
      "metadata": {
        "id": "SfewdSuc1p1_"
      }
    },
    {
      "cell_type": "markdown",
      "source": [
        "### Describe Numerical Data"
      ],
      "metadata": {
        "id": "8fEh4-qy1p1_"
      }
    },
    {
      "cell_type": "code",
      "source": [
        "df.describe()"
      ],
      "metadata": {
        "execution": {
          "iopub.status.busy": "2024-05-15T19:26:15.580963Z",
          "iopub.execute_input": "2024-05-15T19:26:15.581627Z",
          "iopub.status.idle": "2024-05-15T19:26:15.662857Z",
          "shell.execute_reply.started": "2024-05-15T19:26:15.581576Z",
          "shell.execute_reply": "2024-05-15T19:26:15.66168Z"
        },
        "trusted": true,
        "id": "rH80Nj7T1p1_"
      },
      "execution_count": null,
      "outputs": []
    },
    {
      "cell_type": "markdown",
      "source": [
        "Dari snapshot diatas, hal pertama yang menarik perhatian saya adalah value min dan max dari Quantity, karena valuenya simetris, min -80995 dan max 80995, ada apa gerangan? kira-kira kejadian apa yang menyebabkan hal ini terjadi?\n",
        "\n",
        "Lalu ada juga UnitPrice dengan value negatif, apakah ini hutang?\n",
        "\n",
        "Kita lanjut identifikasi outliers dan buat scatter plot untuk memahami hubungan antar keduanya"
      ],
      "metadata": {
        "id": "mJ-fULjL1p2A"
      }
    },
    {
      "cell_type": "markdown",
      "source": [
        "### Identifikasi Outliers"
      ],
      "metadata": {
        "id": "CPkWj7Hd1p2A"
      }
    },
    {
      "cell_type": "markdown",
      "source": [
        "Kita identifikasi outliers menggunakan IQR score, rumusnya adalah:\n",
        "- IQR = Q3 - Q1\n",
        "- lower bound = Q1 - 1.5 * IQR\n",
        "- upper bound = Q3 + 1.5 * IQR"
      ],
      "metadata": {
        "id": "3H4GZjzd1p2A"
      }
    },
    {
      "cell_type": "markdown",
      "source": [
        "#### Outliers Quantity"
      ],
      "metadata": {
        "id": "dv3NGBGK1p2A"
      }
    },
    {
      "cell_type": "code",
      "source": [
        "q1_quan = df['Quantity'].quantile(0.25)\n",
        "q3_quan = df['Quantity'].quantile(0.75)\n",
        "iqr_quan = q3_quan - q1_quan\n",
        "lb_quan = float(q1_quan) - (1.5 * iqr_quan)\n",
        "ub_quan = float(q3_quan) + (1.5 * iqr_quan)\n",
        "\n",
        "print('Q1 = {}'.format(q1_quan))\n",
        "print('Q3 = {}'.format(q3_quan))\n",
        "print('IQR = Q3 - Q1 = {}'.format(iqr_quan))\n",
        "print('lower bound = Q1 - 1.5 * IQR = {}'.format(lb_quan))\n",
        "print('upper bound = Q3 + 1.5 * IQR = {}'.format(ub_quan))"
      ],
      "metadata": {
        "execution": {
          "iopub.status.busy": "2024-05-15T19:26:15.664384Z",
          "iopub.execute_input": "2024-05-15T19:26:15.665034Z",
          "iopub.status.idle": "2024-05-15T19:26:15.697782Z",
          "shell.execute_reply.started": "2024-05-15T19:26:15.664984Z",
          "shell.execute_reply": "2024-05-15T19:26:15.696613Z"
        },
        "trusted": true,
        "id": "CXx16orf1p2C"
      },
      "execution_count": null,
      "outputs": []
    },
    {
      "cell_type": "markdown",
      "source": [
        "#### Outliers UnitPrice"
      ],
      "metadata": {
        "id": "k9-aZwN31p2E"
      }
    },
    {
      "cell_type": "code",
      "source": [
        "q1_unit = df['UnitPrice'].quantile(0.25)\n",
        "q3_unit = df['UnitPrice'].quantile(0.75)\n",
        "iqr_unit = q3_unit - q1_unit\n",
        "lb_unit = float(q1_unit) - (1.5 * iqr_unit)\n",
        "ub_unit = float(q3_unit) + (1.5 * iqr_unit)\n",
        "\n",
        "print('Q1 = {}'.format(q1_unit))\n",
        "print('Q3 = {}'.format(q3_unit))\n",
        "print('IQR = Q3 - Q1 = {}'.format(iqr_unit))\n",
        "print('lower bound = Q1 - 1.5 * IQR = {}'.format(lb_unit))\n",
        "print('upper bound = Q1 - 1.5 * IQR = {}'.format(ub_unit))"
      ],
      "metadata": {
        "execution": {
          "iopub.status.busy": "2024-05-15T19:26:15.699175Z",
          "iopub.execute_input": "2024-05-15T19:26:15.699492Z",
          "iopub.status.idle": "2024-05-15T19:26:15.733085Z",
          "shell.execute_reply.started": "2024-05-15T19:26:15.699462Z",
          "shell.execute_reply": "2024-05-15T19:26:15.731924Z"
        },
        "trusted": true,
        "id": "R1wlHsMl1p2E"
      },
      "execution_count": null,
      "outputs": []
    },
    {
      "cell_type": "markdown",
      "source": [
        "### Hubungan antara Quantity dan UnitPrice"
      ],
      "metadata": {
        "id": "WfnxNWE51p2E"
      }
    },
    {
      "cell_type": "code",
      "source": [
        "sns.scatterplot(df['UnitPrice'], df['Quantity'])\n",
        "plt.title('Quantity x UnitPrice', fontsize = 20);"
      ],
      "metadata": {
        "execution": {
          "iopub.status.busy": "2024-05-15T19:26:15.734787Z",
          "iopub.execute_input": "2024-05-15T19:26:15.735474Z",
          "iopub.status.idle": "2024-05-15T19:26:17.084342Z",
          "shell.execute_reply.started": "2024-05-15T19:26:15.735423Z",
          "shell.execute_reply": "2024-05-15T19:26:17.083255Z"
        },
        "trusted": true,
        "id": "hmHR4bl41p2E"
      },
      "execution_count": null,
      "outputs": []
    },
    {
      "cell_type": "markdown",
      "source": [
        "Setelah di plot, sekarang makin terlihat jelas hubungan antar kedua kolom.\n",
        "\n",
        "Data kita memiliki beberapa outliers ekstrim:\n",
        "\n",
        "- titik kelompok paling atas menggambarkan customer yang membeli banyak barang dengan harga yang tidak terlalu mahal, titik kelompok yang paling bawah adalah customer yang banyak .... mengembalikan barang? apakah ini retur?. Jika dicermati, bentuknya terlihat simetris dengan titik kelompok data yang paling atas. Hmm.. kira-kira apa ya maksudnya? menurut analisa saya, kemungkinan besar itu adalah Reseller, karena jika dilihat dari Quantitynya, tidak mungkin orang secara pribadi membeli barang sebegitu banyaknya. Reseller tersebut kemudian secara rutin mengambil barang dagangan dengan item yang sama, kemudian mengembalikan item yang tidak laku. Namun untuk membuktikan benar tidaknya, lebih baik kita tanyakan kepada Data Analis mengenai arti dari data itu, atau jangan-jangan ada kesalahan input? siapa tau. Dan sayang sekali penyedia data kita tidak menyertakan nomenklatur yang bisa menjelaskan data secara lebih detil.\n",
        "\n",
        "\n",
        "- Untuk titik kelompok yang paling kiri, saya tidak faham artinya apa, apakah itu pribadi yang berhutang. Sekali lagi cara terbaik untuk mengetahui kejelasan data kita adalah dengan menanyakannya kepada Data Analis.\n",
        "\n",
        "\n",
        "- Untuk titik kelompok yang paling kanan, itu adalah customer yang membeli barang dengan harga yang mahal, kemungkinan besar barang itu digunakan untuk diri sendiri karena Quantitynya tidaklah ekstrim. Cukup normal menurut saya, tidak begitu aneh.\n",
        "\n",
        "Secara umum data kita berisikan customer yang beraneka ragam, ada yang membeli barang dengan rentang harga yang luas namun Quantitynya rendah (kemungkinan besar digunakan untuk pribadi), dan ada juga customer yang membeli dengan Quantity tinggi namun rentang harga yang rendah(kemungkinan adalah Reseller)\n",
        "\n",
        "Tapi saya penasaran bagaimana bentuk scatter plotnya jika tanpa outliers, yuk kita cek dulu."
      ],
      "metadata": {
        "id": "iDVcKeaF1p2E"
      }
    },
    {
      "cell_type": "code",
      "source": [
        "dx = df[df['Quantity']>0] #hilangkan value negatif\n",
        "dy = df[df['UnitPrice']>0] #hilangkan value negatif\n",
        "\n",
        "filtered_quantity = dx.query('(@q1_quan - 1.5 * @iqr_quan) <= Quantity <= (@q3_quan + 1.5 * @iqr_quan)')\n",
        "filtered_unitprice = dy.query('(@q1_unit - 1.5 * @iqr_unit) <= UnitPrice <= (@q3_unit + 1.5 * @iqr_unit)')\n",
        "\n",
        "sns.scatterplot(filtered_unitprice['UnitPrice'], filtered_quantity['Quantity'])\n",
        "plt.title('Quantity x UnitPrice', fontsize = 20);"
      ],
      "metadata": {
        "execution": {
          "iopub.status.busy": "2024-05-15T19:26:17.085879Z",
          "iopub.execute_input": "2024-05-15T19:26:17.086277Z",
          "iopub.status.idle": "2024-05-15T19:26:18.541779Z",
          "shell.execute_reply.started": "2024-05-15T19:26:17.086241Z",
          "shell.execute_reply": "2024-05-15T19:26:18.540713Z"
        },
        "trusted": true,
        "id": "S_L581vL1p2F"
      },
      "execution_count": null,
      "outputs": []
    },
    {
      "cell_type": "markdown",
      "source": [
        "Secara umum perseberannya terlihat sama saja, namun jika diperhatikan dengan seksama terlihat kalau tingkat kepadatan di titik sebelah kanan atas mulai mengurang, artinya semakin tinggi UnitPrice semakin sedikit tingkat Quantity nya.\n",
        "\n",
        "Namun plot diatas kurang begitu jelas gambarannya, biar lebih pasti, coba kita plot dengan scope yang lebih jauh."
      ],
      "metadata": {
        "id": "3tUS4CiJ1p2F"
      }
    },
    {
      "cell_type": "code",
      "source": [
        "q1_quan_custom = df['Quantity'].quantile(0.5)\n",
        "q3_quan_custom = df['Quantity'].quantile(0.95)\n",
        "iqr_quan_custom = q3_quan_custom - q1_quan_custom\n",
        "\n",
        "q1_unit_custom = df['UnitPrice'].quantile(0.5)\n",
        "q3_unit_custom = df['UnitPrice'].quantile(0.95)\n",
        "iqr_unit_custom = q3_unit_custom - q1_unit_custom\n",
        "\n",
        "dx = df[df['Quantity']>0] #hilangkan value negatif\n",
        "dy = df[df['UnitPrice']>0] #hilangkan value negatif\n",
        "\n",
        "filtered_quantity = dx.query('(@q1_quan_custom - 1.5 * @iqr_quan_custom) <= Quantity <= (@q3_quan_custom + 1.5 * @iqr_quan_custom)')\n",
        "filtered_unitprice = dy.query('(@q1_unit_custom - 1.5 * @iqr_unit_custom) <= UnitPrice <= (@q3_unit_custom + 1.5 * @iqr_unit_custom)')\n",
        "\n",
        "sns.scatterplot(filtered_unitprice['UnitPrice'], filtered_quantity['Quantity'])\n",
        "plt.title('Quantity x UnitPrice', fontsize = 20);"
      ],
      "metadata": {
        "execution": {
          "iopub.status.busy": "2024-05-15T19:26:18.548676Z",
          "iopub.execute_input": "2024-05-15T19:26:18.549016Z",
          "iopub.status.idle": "2024-05-15T19:26:20.176206Z",
          "shell.execute_reply.started": "2024-05-15T19:26:18.548983Z",
          "shell.execute_reply": "2024-05-15T19:26:20.17503Z"
        },
        "trusted": true,
        "id": "MFwRCLKO1p2F"
      },
      "execution_count": null,
      "outputs": []
    },
    {
      "cell_type": "markdown",
      "source": [
        "### Distribusi Quantity dan UnitPrice"
      ],
      "metadata": {
        "id": "Ddu3EAEe1p2F"
      }
    },
    {
      "cell_type": "code",
      "source": [
        "sns.distplot(df['Quantity'])\n",
        "plt.title('Distribusi Quantity', fontsize = 20)\n",
        "plt.xlabel('Quantity')\n",
        "plt.ylabel('count');"
      ],
      "metadata": {
        "scrolled": true,
        "execution": {
          "iopub.status.busy": "2024-05-15T19:26:20.180734Z",
          "iopub.execute_input": "2024-05-15T19:26:20.181106Z",
          "iopub.status.idle": "2024-05-15T19:26:20.575992Z",
          "shell.execute_reply.started": "2024-05-15T19:26:20.181069Z",
          "shell.execute_reply": "2024-05-15T19:26:20.57495Z"
        },
        "trusted": true,
        "id": "bjsmw63A1p2F"
      },
      "execution_count": null,
      "outputs": []
    },
    {
      "cell_type": "code",
      "source": [
        "sns.distplot(df['UnitPrice'])\n",
        "plt.title('Distribusi Unit price', fontsize = 20)\n",
        "plt.xlabel('Unit Price')\n",
        "plt.ylabel('count');"
      ],
      "metadata": {
        "execution": {
          "iopub.status.busy": "2024-05-15T19:26:20.577358Z",
          "iopub.execute_input": "2024-05-15T19:26:20.577705Z",
          "iopub.status.idle": "2024-05-15T19:26:20.989545Z",
          "shell.execute_reply.started": "2024-05-15T19:26:20.57767Z",
          "shell.execute_reply": "2024-05-15T19:26:20.988491Z"
        },
        "trusted": true,
        "id": "bq6Ehj4m1p2F"
      },
      "execution_count": null,
      "outputs": []
    },
    {
      "cell_type": "markdown",
      "source": [
        "### Plot 5 negara Terbesar"
      ],
      "metadata": {
        "id": "iFG4xmFQ1p2G"
      }
    },
    {
      "cell_type": "markdown",
      "source": [
        "Plot 5 negara terbesar yang melakukan pembelian retail secara online (berbasis di UK)"
      ],
      "metadata": {
        "id": "vz129FZH1p2G"
      }
    },
    {
      "cell_type": "code",
      "source": [
        "x = df['Country'].value_counts().head(5)\n",
        "sns.barplot(x = x.values, y = x.index, )\n",
        "plt.title('5 negara terbesar', fontsize = 20)\n",
        "plt.xlabel('Count')\n",
        "plt.ylabel('Nama Negara');"
      ],
      "metadata": {
        "execution": {
          "iopub.status.busy": "2024-05-15T19:26:20.990963Z",
          "iopub.execute_input": "2024-05-15T19:26:20.991298Z",
          "iopub.status.idle": "2024-05-15T19:26:21.307411Z",
          "shell.execute_reply.started": "2024-05-15T19:26:20.991266Z",
          "shell.execute_reply": "2024-05-15T19:26:21.305908Z"
        },
        "trusted": true,
        "id": "QTvO8f8M1p2G"
      },
      "execution_count": null,
      "outputs": []
    },
    {
      "cell_type": "markdown",
      "source": [
        "Berikut detil jumlah negara dan jumlah transaksi yang terjadi"
      ],
      "metadata": {
        "id": "wfi9ucWb1p2L"
      }
    },
    {
      "cell_type": "code",
      "source": [
        "x = df['Country'].nunique()\n",
        "print(\"Terdapat total {} negara\".format(x))\n",
        "\n",
        "country = pd.DataFrame(df['Country'].value_counts()).reset_index()\n",
        "country.columns = ['Negara', 'Jumlah Transaksi']\n",
        "country"
      ],
      "metadata": {
        "execution": {
          "iopub.status.busy": "2024-05-15T19:26:21.309299Z",
          "iopub.execute_input": "2024-05-15T19:26:21.309802Z",
          "iopub.status.idle": "2024-05-15T19:26:21.525603Z",
          "shell.execute_reply.started": "2024-05-15T19:26:21.309748Z",
          "shell.execute_reply": "2024-05-15T19:26:21.524615Z"
        },
        "trusted": true,
        "id": "b8a-omb41p2M"
      },
      "execution_count": null,
      "outputs": []
    },
    {
      "cell_type": "markdown",
      "source": [
        "Setelah melakukan EDA sekarang saatnya kita memodelkan data menjadi RFM. Yang pertama saya akan melakukannya dengan library Lifetimes, yang kedua saya akan menggunakan algoritma K-means."
      ],
      "metadata": {
        "id": "2Ok_PaqH1p2M"
      }
    },
    {
      "cell_type": "markdown",
      "source": [
        "# Segmentasi Customer menggunakan library Lifetimes"
      ],
      "metadata": {
        "id": "dsqKdnYf1p2M"
      }
    },
    {
      "cell_type": "markdown",
      "source": [
        "Secara garis besar, berikut adalah step yang dilakukan dalam membuat segmentasi customer menggunakan Lifetimes:\n",
        "\n",
        "- 1. Persiapkan data\n",
        "- 2. Buat RFM\n",
        "\n",
        "Kita hanya akan melakukan segmentasi terhadap United Kingdom saja (karena datanya yang paling banyak, hehe)\n",
        "\n",
        "Sebelum melakukan permodelan, kita persiapkan datanya terlebih dahulu menjadi format dataframe yang di inginkan Lifetimes."
      ],
      "metadata": {
        "id": "tOdFcnpo1p2M"
      }
    },
    {
      "cell_type": "markdown",
      "source": [
        "## Persiapkan Data"
      ],
      "metadata": {
        "id": "mh8IUEMJ1p2M"
      }
    },
    {
      "cell_type": "markdown",
      "source": [
        "Step 1. Buang negara selain UK."
      ],
      "metadata": {
        "id": "m_WZX3sf1p2N"
      }
    },
    {
      "cell_type": "code",
      "source": [
        "df = df[df['Country'] == 'United Kingdom']\n",
        "df.head()"
      ],
      "metadata": {
        "execution": {
          "iopub.status.busy": "2024-05-15T19:26:21.527319Z",
          "iopub.execute_input": "2024-05-15T19:26:21.527686Z",
          "iopub.status.idle": "2024-05-15T19:26:21.683695Z",
          "shell.execute_reply.started": "2024-05-15T19:26:21.527648Z",
          "shell.execute_reply": "2024-05-15T19:26:21.682463Z"
        },
        "trusted": true,
        "id": "FLRt77kz1p2N"
      },
      "execution_count": null,
      "outputs": []
    },
    {
      "cell_type": "markdown",
      "source": [
        "Step 2. Transform InvoiceDate ke python object datetime"
      ],
      "metadata": {
        "id": "KK9u_NZU1p2N"
      }
    },
    {
      "cell_type": "code",
      "source": [
        "df['InvoiceDate'] = pd.to_datetime(df['InvoiceDate'])\n",
        "df.head()"
      ],
      "metadata": {
        "scrolled": true,
        "execution": {
          "iopub.status.busy": "2024-05-15T19:26:21.685369Z",
          "iopub.execute_input": "2024-05-15T19:26:21.685708Z",
          "iopub.status.idle": "2024-05-15T19:26:24.47455Z",
          "shell.execute_reply.started": "2024-05-15T19:26:21.685676Z",
          "shell.execute_reply": "2024-05-15T19:26:24.473242Z"
        },
        "trusted": true,
        "id": "qrTcLNXO1p2N"
      },
      "execution_count": null,
      "outputs": []
    },
    {
      "cell_type": "markdown",
      "source": [
        "Step 3. Buang value dari kolom 'CustomerID' yang datanya bolong.\n",
        "\n",
        "sebetulnya kita bisa saja melakukan input data kosong tersebut dengan data dummy. tapi kali ini kita akan drop out saja. Step drop out ini akan mengurangi jumlah data lumayan signifikan."
      ],
      "metadata": {
        "id": "eJdM0D5_1p2N"
      }
    },
    {
      "cell_type": "code",
      "source": [
        "df = df[~df['CustomerID'].isna()]\n",
        "df.head()"
      ],
      "metadata": {
        "execution": {
          "iopub.status.busy": "2024-05-15T19:26:24.476229Z",
          "iopub.execute_input": "2024-05-15T19:26:24.476904Z",
          "iopub.status.idle": "2024-05-15T19:26:24.526381Z",
          "shell.execute_reply.started": "2024-05-15T19:26:24.476848Z",
          "shell.execute_reply": "2024-05-15T19:26:24.525152Z"
        },
        "trusted": true,
        "id": "TwW7D2ka1p2O"
      },
      "execution_count": null,
      "outputs": []
    },
    {
      "cell_type": "markdown",
      "source": [
        "Step 4. Buang value dari kolom 'Quantity' dan 'UnitPrice' yang memiliki value 0 dan negatif."
      ],
      "metadata": {
        "id": "E8-nYtYm1p2O"
      }
    },
    {
      "cell_type": "code",
      "source": [
        "df = df[df['Quantity']>0]\n",
        "df = df[df['UnitPrice']>0]\n",
        "df.head()"
      ],
      "metadata": {
        "execution": {
          "iopub.status.busy": "2024-05-15T19:26:24.527903Z",
          "iopub.execute_input": "2024-05-15T19:26:24.528628Z",
          "iopub.status.idle": "2024-05-15T19:26:24.627633Z",
          "shell.execute_reply.started": "2024-05-15T19:26:24.528575Z",
          "shell.execute_reply": "2024-05-15T19:26:24.626439Z"
        },
        "trusted": true,
        "id": "j1HZ7iAO1p2O"
      },
      "execution_count": null,
      "outputs": []
    },
    {
      "cell_type": "markdown",
      "source": [
        "Step 5. Buat kolom Revenue\n",
        "\n",
        "Definisi Revenue dari Lifetimes adalah:\n",
        "- Revenue = UnitPrice * Quantity"
      ],
      "metadata": {
        "id": "b5zsulxg1p2O"
      }
    },
    {
      "cell_type": "code",
      "source": [
        "df['Revenue'] = df['Quantity'] * df['UnitPrice']\n",
        "df.head()"
      ],
      "metadata": {
        "execution": {
          "iopub.status.busy": "2024-05-15T19:26:24.629302Z",
          "iopub.execute_input": "2024-05-15T19:26:24.62997Z",
          "iopub.status.idle": "2024-05-15T19:26:24.654301Z",
          "shell.execute_reply.started": "2024-05-15T19:26:24.629915Z",
          "shell.execute_reply": "2024-05-15T19:26:24.653092Z"
        },
        "trusted": true,
        "id": "UnE_vsKI1p2P"
      },
      "execution_count": null,
      "outputs": []
    },
    {
      "cell_type": "markdown",
      "source": [
        "Step 6. Persiapkan format dataframe yang di inginkan Lifetimes.\n",
        "\n",
        "Buat dataframe baru, agregatkan semua data berdasarkan InvoiceNo dan InvoiceDate."
      ],
      "metadata": {
        "id": "4gc76EJy1p2P"
      }
    },
    {
      "cell_type": "code",
      "source": [
        "orders = df.groupby(['InvoiceNo', 'InvoiceDate']).sum().reset_index()\n",
        "orders.head()"
      ],
      "metadata": {
        "execution": {
          "iopub.status.busy": "2024-05-15T19:26:24.655657Z",
          "iopub.execute_input": "2024-05-15T19:26:24.655983Z",
          "iopub.status.idle": "2024-05-15T19:26:24.78159Z",
          "shell.execute_reply.started": "2024-05-15T19:26:24.65595Z",
          "shell.execute_reply": "2024-05-15T19:26:24.780287Z"
        },
        "trusted": true,
        "id": "R_YYKRaD1p2P"
      },
      "execution_count": null,
      "outputs": []
    },
    {
      "cell_type": "markdown",
      "source": [
        "Data sudah siap, sekarang waktunya lakukan segmentasi"
      ],
      "metadata": {
        "id": "d9HHWocJ1p2Q"
      }
    },
    {
      "cell_type": "markdown",
      "source": [
        "## Buat RFM Model"
      ],
      "metadata": {
        "id": "40FCtZrB1p2Q"
      }
    },
    {
      "cell_type": "markdown",
      "source": [
        "Berikut adalah langkah-langkah dalam membuat RFM model:\n",
        "\n",
        "- Step 1, hitung RFM Value\n",
        "- Step 2, hitung RFM Score\n",
        "- Step 3, hitung score RFM secara keseluruhan\n",
        "- Step 4, labeling\n",
        "\n",
        "Kalau kalian bingung kenapa ada RFM Value dan RFM Score? apa bedanya? RFM Value adalah nilai dari RFM itu sendiri, sedangkan RFM Score adalah Score yang diberikan kepada RFM Value. agar lebih jelas, ikuti saja dulu notebook ini. Oke kita lanjut ya."
      ],
      "metadata": {
        "id": "BMCBK_ZE1p2Q"
      }
    },
    {
      "cell_type": "markdown",
      "source": [
        "### Step 1: Hitung RFM Values"
      ],
      "metadata": {
        "id": "dailfKrw1p2Q"
      }
    },
    {
      "cell_type": "markdown",
      "source": [
        "Di step ini Lifetimes akan membuatkan dataframe baru secara otomatis berdasarkan dataframe yang sudah kita persiapkan sebelumnya.\n",
        "\n",
        "outputnya terdapat kolom frequency, recency, T, dan monetary_value.\n",
        "\n",
        "Untuk saat ini abaikan saja kolom CustomerID dan T, karena kita tidak akan menggunakannya. Jika kalian penasaran kolom apa T itu, berikut penjelasannya:\n",
        "\n",
        "- T adalah umur customer dari waktu pembelian pertama sampai akhir periode waktu yang ditentukan. representasi unit waktunya bisa menggunakan jam, hari, minggu, dll, tergantung kebijakan kalian.\n",
        "\n",
        "lalu apa bedanya dengan recency? kalian bisa membandingkannya dengan penjelasan recency sebagai berikut:\n",
        "\n",
        "- Recency adalah umur customer ketika mereka melakukan pembelian yang paling terbaru(recent). ini sama dengan durasi pembelian pertama(first purchase) sampai pembelian terbaru (latest purchase). *jika customer hanya melakukan satu kali pembelian, maka recency-nya adalah 0."
      ],
      "metadata": {
        "id": "H-xSpSvO1p2Q"
      }
    },
    {
      "cell_type": "code",
      "source": [
        "rfm = summary_data_from_transaction_data(orders, 'CustomerID', 'InvoiceDate', monetary_value_col='Revenue').reset_index()\n",
        "rfm"
      ],
      "metadata": {
        "execution": {
          "iopub.status.busy": "2024-05-15T19:26:24.783071Z",
          "iopub.execute_input": "2024-05-15T19:26:24.783459Z",
          "iopub.status.idle": "2024-05-15T19:26:25.007926Z",
          "shell.execute_reply.started": "2024-05-15T19:26:24.783421Z",
          "shell.execute_reply": "2024-05-15T19:26:25.00675Z"
        },
        "trusted": true,
        "id": "_ZjnnUMX1p2R"
      },
      "execution_count": null,
      "outputs": []
    },
    {
      "cell_type": "markdown",
      "source": [
        "Kita dapati terdapat banyak sekali kolom yang valuenya 0, apa yang terjadi?.\n",
        "\n",
        "Semuanya berawal dari recency, masih ingat definisi recency?.\n",
        "\n",
        "- Recency: Recency adalah umur customer ketika mereka melakukan pembelian yang paling terbaru (recent). Atau sama dengan durasi pembelian pertama(first purchase) sampai pembelian terbaru (latest purchase). *jika customer hanya melakukan satu kali pembelian, maka recency-nya adalah 0.\n",
        "\n",
        "jika dilihat dari definisi diatas, maka kebanyakan customer tidak melakukan pembelian ulang, alias hanya membeli satu kali saja. efeknya, nilai frequency pun ikut menjadi 0, kok bisa? coba baca definisi frequency berikut:\n",
        "\n",
        "- Frequency: Angka pembelian ulang yang dilakukan customer. Atau sama dengan total pembelian dikurangi satu.\n",
        "\n",
        "Jika total pembelian yang dilakukan customer hanya 1 kali, maka: 1-1= 0. Dan tentu saja efek ini berimbas ke monetary value. kalau recency dan frequency nya saja 0, lalu apa yang bisa dihitung untuk dimasukkan ke monetary value?.\n",
        "\n",
        "Maka dari itu kita akan melakukan sedikit penyesuaian lagi. Sekarang coba kita cek kondisi frequency dengan plot histogram."
      ],
      "metadata": {
        "id": "awYx6_1S1p2R"
      }
    },
    {
      "cell_type": "code",
      "source": [
        "plt.hist(rfm['frequency'])\n",
        "plt.title('Frequency')\n",
        "plt.ylabel('Jumlah Customer' )\n",
        "plt.xlabel('Frequency');"
      ],
      "metadata": {
        "execution": {
          "iopub.status.busy": "2024-05-15T19:26:25.009412Z",
          "iopub.execute_input": "2024-05-15T19:26:25.009736Z",
          "iopub.status.idle": "2024-05-15T19:26:25.203798Z",
          "shell.execute_reply.started": "2024-05-15T19:26:25.009704Z",
          "shell.execute_reply": "2024-05-15T19:26:25.202829Z"
        },
        "trusted": true,
        "id": "zvEzAZS31p2R"
      },
      "execution_count": null,
      "outputs": []
    },
    {
      "cell_type": "markdown",
      "source": [
        "Bisa dilihat, customer yang tidak melakukan transaksi ulang jumlahnya sangat mendominasi. Untuk membuat segmen yang lebih masuk akal, kita akan membuang data customer yang tidak melakukan pembelian ulang."
      ],
      "metadata": {
        "id": "BoZFvWji1p2R"
      }
    },
    {
      "cell_type": "code",
      "source": [
        "rfm = rfm[rfm['frequency']>0]\n",
        "rfm.head()"
      ],
      "metadata": {
        "scrolled": true,
        "execution": {
          "iopub.status.busy": "2024-05-15T19:26:25.205318Z",
          "iopub.execute_input": "2024-05-15T19:26:25.20599Z",
          "iopub.status.idle": "2024-05-15T19:26:25.225476Z",
          "shell.execute_reply.started": "2024-05-15T19:26:25.205938Z",
          "shell.execute_reply": "2024-05-15T19:26:25.224453Z"
        },
        "trusted": true,
        "id": "uRyB_R1-1p2R"
      },
      "execution_count": null,
      "outputs": []
    },
    {
      "cell_type": "markdown",
      "source": [
        "Buat histogram lagi untuk mengetahui distribusi kolom yang baru. sekarang distribusinya terlihat lebih baik, meskipun masih terjadi ketimpangan."
      ],
      "metadata": {
        "id": "4gWgRtfw1p2S"
      }
    },
    {
      "cell_type": "code",
      "source": [
        "plt.hist(rfm['frequency'])\n",
        "plt.title('Frequency')\n",
        "plt.ylabel('Jumlah Customer', )\n",
        "plt.xlabel('Frequency');"
      ],
      "metadata": {
        "execution": {
          "iopub.status.busy": "2024-05-15T19:26:25.22681Z",
          "iopub.execute_input": "2024-05-15T19:26:25.22719Z",
          "iopub.status.idle": "2024-05-15T19:26:25.434022Z",
          "shell.execute_reply.started": "2024-05-15T19:26:25.227142Z",
          "shell.execute_reply": "2024-05-15T19:26:25.432778Z"
        },
        "trusted": true,
        "id": "vmbv6ouC1p2S"
      },
      "execution_count": null,
      "outputs": []
    },
    {
      "cell_type": "markdown",
      "source": [
        "Sekarang gantian kita cek distribusi monetary_value dengan histogram"
      ],
      "metadata": {
        "id": "pZdxwaZk1p2T"
      }
    },
    {
      "cell_type": "code",
      "source": [
        "plt.hist(rfm['monetary_value'])\n",
        "plt.title('Monetary Value')\n",
        "plt.ylabel('Jumlah Customer', )\n",
        "plt.xlabel('Monetary Value');"
      ],
      "metadata": {
        "execution": {
          "iopub.status.busy": "2024-05-15T19:26:25.435841Z",
          "iopub.execute_input": "2024-05-15T19:26:25.436532Z",
          "iopub.status.idle": "2024-05-15T19:26:25.654593Z",
          "shell.execute_reply.started": "2024-05-15T19:26:25.436472Z",
          "shell.execute_reply": "2024-05-15T19:26:25.653498Z"
        },
        "trusted": true,
        "id": "oisYGaqa1p2U"
      },
      "execution_count": null,
      "outputs": []
    },
    {
      "cell_type": "markdown",
      "source": [
        "Oke, terlihat keseluruhan customer memiliki monetary value diantara 0 sampai 500. tetapi ada juga customer yang memiliki monetary value sebanyak 2000 keatas, bahkan sampai 16000an."
      ],
      "metadata": {
        "id": "7ys1tjSY1p2U"
      }
    },
    {
      "cell_type": "code",
      "source": [
        "rfm = rfm[rfm['monetary_value']<2000]\n",
        "rfm.head()"
      ],
      "metadata": {
        "execution": {
          "iopub.status.busy": "2024-05-15T19:26:25.656051Z",
          "iopub.execute_input": "2024-05-15T19:26:25.656424Z",
          "iopub.status.idle": "2024-05-15T19:26:25.674349Z",
          "shell.execute_reply.started": "2024-05-15T19:26:25.656391Z",
          "shell.execute_reply": "2024-05-15T19:26:25.673182Z"
        },
        "trusted": true,
        "id": "GXXxXeYA1p2U"
      },
      "execution_count": null,
      "outputs": []
    },
    {
      "cell_type": "markdown",
      "source": [
        "Berikut adalah distribusi monetary value tanpa outliers. *seharusnya kita melakukan investigasi lebih lanjut terhadap outliers, dan tidak membuangnya begitu saja, tapi untuk kali ini, kita buang saja outliersnya."
      ],
      "metadata": {
        "id": "E4y9mwBl1p2U"
      }
    },
    {
      "cell_type": "code",
      "source": [
        "plt.hist(rfm['monetary_value'])\n",
        "plt.title('Monetary Value')\n",
        "plt.ylabel('Jumlah Customer', )\n",
        "plt.xlabel('Monetary Value');"
      ],
      "metadata": {
        "execution": {
          "iopub.status.busy": "2024-05-15T19:26:25.675745Z",
          "iopub.execute_input": "2024-05-15T19:26:25.676073Z",
          "iopub.status.idle": "2024-05-15T19:26:25.887289Z",
          "shell.execute_reply.started": "2024-05-15T19:26:25.676041Z",
          "shell.execute_reply": "2024-05-15T19:26:25.885994Z"
        },
        "trusted": true,
        "id": "5rygvZnm1p2U"
      },
      "execution_count": null,
      "outputs": []
    },
    {
      "cell_type": "markdown",
      "source": [
        "## Step 2: Hitung Individual RFM Score"
      ],
      "metadata": {
        "id": "SD4N6K6J1p2V"
      }
    },
    {
      "cell_type": "markdown",
      "source": [
        "Menghitung RFM individual Score dapat dilakukan dengan beberapa cara, kalian bisa menghitungnya menggunakan rumus perhitungan bisnis kalian sendiri yang kira-kira cocok dengan basis customer kalian. Kali ini kita akan menggunakan metode statistikal Quartil (membagi Score menjadi empat bagian)"
      ],
      "metadata": {
        "id": "DGaKb5CM1p2V"
      }
    },
    {
      "cell_type": "code",
      "source": [
        "quartiles = rfm.quantile(q=[0.25, 0.5, 0.75])\n",
        "quartiles"
      ],
      "metadata": {
        "execution": {
          "iopub.status.busy": "2024-05-15T19:26:25.888812Z",
          "iopub.execute_input": "2024-05-15T19:26:25.889217Z",
          "iopub.status.idle": "2024-05-15T19:26:25.908638Z",
          "shell.execute_reply.started": "2024-05-15T19:26:25.889177Z",
          "shell.execute_reply": "2024-05-15T19:26:25.907281Z"
        },
        "trusted": true,
        "id": "M-O3H_rv1p2V"
      },
      "execution_count": null,
      "outputs": []
    },
    {
      "cell_type": "code",
      "source": [
        "def recency_score (data):\n",
        "    if data <= 60:\n",
        "        return 1\n",
        "    elif data <= 128:\n",
        "        return 2\n",
        "    elif data <= 221:\n",
        "        return 3\n",
        "    else:\n",
        "        return 4\n",
        "\n",
        "def frequency_score (data):\n",
        "    if data <= 1:\n",
        "        return 1\n",
        "    elif data <= 1:\n",
        "        return 2\n",
        "    elif data <= 2:\n",
        "        return 3\n",
        "    else:\n",
        "        return 4\n",
        "\n",
        "def monetary_value_score (data):\n",
        "    if data <= 142.935:\n",
        "        return 1\n",
        "    elif data <= 292.555:\n",
        "        return 2\n",
        "    elif data <= 412.435:\n",
        "        return 3\n",
        "    else:\n",
        "        return 4\n",
        "\n",
        "rfm['R'] = rfm['recency'].apply(recency_score )\n",
        "rfm['F'] = rfm['frequency'].apply(frequency_score)\n",
        "rfm['M'] = rfm['monetary_value'].apply(monetary_value_score)\n",
        "rfm.head()"
      ],
      "metadata": {
        "execution": {
          "iopub.status.busy": "2024-05-15T19:26:25.910643Z",
          "iopub.execute_input": "2024-05-15T19:26:25.911324Z",
          "iopub.status.idle": "2024-05-15T19:26:25.951281Z",
          "shell.execute_reply.started": "2024-05-15T19:26:25.911261Z",
          "shell.execute_reply": "2024-05-15T19:26:25.950194Z"
        },
        "trusted": true,
        "id": "f7DBvxtv1p2V"
      },
      "execution_count": null,
      "outputs": []
    },
    {
      "cell_type": "markdown",
      "source": [
        "Setelah Score individual didapatkan, sekarang saatnya menghitung Score RFM  secara keseluruhan"
      ],
      "metadata": {
        "id": "lzX03Uws1p2W"
      }
    },
    {
      "cell_type": "markdown",
      "source": [
        "## Step 3: Hitung RFM Score secara keseluruhan"
      ],
      "metadata": {
        "id": "CllbXhnD1p2W"
      }
    },
    {
      "cell_type": "markdown",
      "source": [
        "Untuk menghitung RFM Score secara keseluruhan kita cukup menjumlahkan value dari RFM individual score."
      ],
      "metadata": {
        "id": "LEKP9gq51p2W"
      }
    },
    {
      "cell_type": "code",
      "source": [
        "rfm['RFM_score'] = rfm[['R', 'F', 'M']].sum(axis=1)\n",
        "rfm.head()"
      ],
      "metadata": {
        "execution": {
          "iopub.status.busy": "2024-05-15T19:26:25.953284Z",
          "iopub.execute_input": "2024-05-15T19:26:25.953979Z",
          "iopub.status.idle": "2024-05-15T19:26:25.977211Z",
          "shell.execute_reply.started": "2024-05-15T19:26:25.953925Z",
          "shell.execute_reply": "2024-05-15T19:26:25.976224Z"
        },
        "trusted": true,
        "id": "sPWFQhVN1p2W"
      },
      "execution_count": null,
      "outputs": []
    },
    {
      "cell_type": "markdown",
      "source": [
        "## Step 4: Berikan Label untuk RFM_Score"
      ],
      "metadata": {
        "id": "R-TS_jY21p2W"
      }
    },
    {
      "cell_type": "markdown",
      "source": [
        "Kalian boleh melabeli score dengan nama apapun dan range berapapun, tergantung kebijakan kalian. Kali ini kita akan mensegmentasikannya menjadi 5 bagian, dengan urutan label sebagai berikut:\n",
        "'Bronze' sebagai yang terendah, diikuti dengan 'Silver', 'Goldr', 'Platinum', dan 'Diamond' yang tertinggi"
      ],
      "metadata": {
        "id": "bUZk_4B31p2X"
      }
    },
    {
      "cell_type": "code",
      "source": [
        "rfm['label'] = 'Bronze'\n",
        "rfm.loc[rfm['RFM_score'] > 4, 'label'] = 'Silver'\n",
        "rfm.loc[rfm['RFM_score'] > 6, 'label'] = 'Gold'\n",
        "rfm.loc[rfm['RFM_score'] > 8, 'label'] = 'Platinum'\n",
        "rfm.loc[rfm['RFM_score'] > 10, 'label'] = 'Diamond'\n",
        "\n",
        "rfm.head()"
      ],
      "metadata": {
        "scrolled": true,
        "execution": {
          "iopub.status.busy": "2024-05-15T19:26:25.978581Z",
          "iopub.execute_input": "2024-05-15T19:26:25.979153Z",
          "iopub.status.idle": "2024-05-15T19:26:26.014275Z",
          "shell.execute_reply.started": "2024-05-15T19:26:25.979085Z",
          "shell.execute_reply": "2024-05-15T19:26:26.013116Z"
        },
        "trusted": true,
        "id": "xWblJ7Gi1p2X"
      },
      "execution_count": null,
      "outputs": []
    },
    {
      "cell_type": "markdown",
      "source": [
        "Dan beginilah gambaran segmentasi customer yang sudah kita buat"
      ],
      "metadata": {
        "id": "LUwEc_N01p2X"
      }
    },
    {
      "cell_type": "code",
      "source": [
        "barplot = dict(rfm['label'].value_counts())\n",
        "bar_names = list(barplot.keys())\n",
        "bar_values = list(barplot.values())\n",
        "plt.bar(bar_names,bar_values)\n",
        "print(pd.DataFrame(barplot, index=[' ']))"
      ],
      "metadata": {
        "scrolled": true,
        "execution": {
          "iopub.status.busy": "2024-05-15T19:26:26.015971Z",
          "iopub.execute_input": "2024-05-15T19:26:26.016386Z",
          "iopub.status.idle": "2024-05-15T19:26:26.171557Z",
          "shell.execute_reply.started": "2024-05-15T19:26:26.016352Z",
          "shell.execute_reply": "2024-05-15T19:26:26.170576Z"
        },
        "trusted": true,
        "id": "bdI9G33y1p2X"
      },
      "execution_count": null,
      "outputs": []
    },
    {
      "cell_type": "markdown",
      "source": [
        "Jika sebelumnya bagian marketing memberlakukan strategi yang sama terhadap semua customer, maka sekarang pihak marketing bisa memanfaatkan segmentasi RFM untuk membuat strategi yang lebih spesifik targetnya.\n",
        "\n",
        "Contohnya seperti, tindakan apa yang harus dilakukan untuk mempertahankan customer agar selalu berada di kelas Diamond? jawabannya bisa dengan memberikan potongan harga yang spesial, buatkan personal merchandise, dll.\n",
        "\n",
        "Sampai tahap ini kita bisa menyerahkan ke bagian marketing hasil segmentasi yang sudah dibuat untuk dilakukan perencanaan strategi dan analisa yang lebih mendalam."
      ],
      "metadata": {
        "id": "-L2qovyL1p2X"
      }
    },
    {
      "cell_type": "markdown",
      "source": [
        "# Segmentasi Customer Menggunakan K means"
      ],
      "metadata": {
        "id": "fJU2XqMa1p2X"
      }
    },
    {
      "cell_type": "markdown",
      "source": [
        "Tahapannya sama seperti ketika membuat RFM menggunakan library Lifetimes:\n",
        "\n",
        "- A. Persiapkan data\n",
        "- B. Buat RFM"
      ],
      "metadata": {
        "id": "ziN3XX7g1p2Y"
      }
    },
    {
      "cell_type": "markdown",
      "source": [
        "## A. Persiapkan data"
      ],
      "metadata": {
        "id": "hYP5qomw1p2Y"
      }
    },
    {
      "cell_type": "markdown",
      "source": [
        "Import data"
      ],
      "metadata": {
        "id": "mWZafquu1p2Y"
      }
    },
    {
      "cell_type": "code",
      "source": [
        "df2 = pd.read_csv(\"/kaggle/input/onlineretail/OnlineRetail.csv\",error_bad_lines=False, encoding='unicode_escape')\n",
        "df2.head()"
      ],
      "metadata": {
        "execution": {
          "iopub.status.busy": "2024-05-15T19:26:26.172839Z",
          "iopub.execute_input": "2024-05-15T19:26:26.173182Z",
          "iopub.status.idle": "2024-05-15T19:26:27.238621Z",
          "shell.execute_reply.started": "2024-05-15T19:26:26.173148Z",
          "shell.execute_reply": "2024-05-15T19:26:27.237636Z"
        },
        "trusted": true,
        "id": "L0MdsZPS1p2Y"
      },
      "execution_count": null,
      "outputs": []
    },
    {
      "cell_type": "markdown",
      "source": [
        "Transform InvoiceDate ke python object datetime"
      ],
      "metadata": {
        "id": "2lCdJEmR1p2Y"
      }
    },
    {
      "cell_type": "code",
      "source": [
        "df2['InvoiceDate'] = pd.to_datetime(df2['InvoiceDate'])\n",
        "df2.head()"
      ],
      "metadata": {
        "execution": {
          "iopub.status.busy": "2024-05-15T19:26:27.239711Z",
          "iopub.execute_input": "2024-05-15T19:26:27.240019Z",
          "iopub.status.idle": "2024-05-15T19:26:30.291458Z",
          "shell.execute_reply.started": "2024-05-15T19:26:27.239988Z",
          "shell.execute_reply": "2024-05-15T19:26:30.290416Z"
        },
        "trusted": true,
        "id": "9mdgRZkr1p2Y"
      },
      "execution_count": null,
      "outputs": []
    },
    {
      "cell_type": "markdown",
      "source": [
        "Kita gunakan United Kingdom saja sama seperti sebelumnya."
      ],
      "metadata": {
        "id": "T6PIcNHX1p2Z"
      }
    },
    {
      "cell_type": "code",
      "source": [
        "uk = df2[df2['Country'] == 'United Kingdom']\n",
        "uk.head()"
      ],
      "metadata": {
        "execution": {
          "iopub.status.busy": "2024-05-15T19:26:30.292617Z",
          "iopub.execute_input": "2024-05-15T19:26:30.292935Z",
          "iopub.status.idle": "2024-05-15T19:26:30.450289Z",
          "shell.execute_reply.started": "2024-05-15T19:26:30.292904Z",
          "shell.execute_reply": "2024-05-15T19:26:30.449396Z"
        },
        "trusted": true,
        "id": "GZh2IRWl1p2Z"
      },
      "execution_count": null,
      "outputs": []
    },
    {
      "cell_type": "markdown",
      "source": [
        "## B. Hitung RFM Value"
      ],
      "metadata": {
        "id": "q8TwesvV1p2Z"
      }
    },
    {
      "cell_type": "markdown",
      "source": [
        "Berikut adalah langkah-langkah dalam membuat RFM model menggunakan algoritma K means:\n",
        "\n",
        "- Step 1, Hitung RFM Value, Tentukan Jumlah Cluster, dan Hitung RFM Score.\n",
        "- Step 2, Hitung score RFM secara keseluruhan\n",
        "- Step 3, Labeling"
      ],
      "metadata": {
        "id": "_GjhwlYF1p2Z"
      }
    },
    {
      "cell_type": "markdown",
      "source": [
        "Jika sebelumnya kita memanfaatkan library Lifetimes untuk menghitung RFM Value, maka kali ini kita akan menggunakan algoritma machine learning, K means. Algoritma K means ini termasuk kedalam algoritma unsupervised learning, yang artinya kita akan mengolah data yang tak berlabel, dan nanti kita akan melabeli outputnya sesuai dengan analisis kita sendiri."
      ],
      "metadata": {
        "id": "Kt2FvtcI1p2a"
      }
    },
    {
      "cell_type": "markdown",
      "source": [
        "## Recency"
      ],
      "metadata": {
        "id": "nsQL5cwX1p2a"
      }
    },
    {
      "cell_type": "markdown",
      "source": [
        "### 1. Hitung Recency Value"
      ],
      "metadata": {
        "id": "vfXUhZjE1p2a"
      }
    },
    {
      "cell_type": "markdown",
      "source": [
        "Untuk mengetahui value recency nya, kita harus mengetahui jumlah hari tidak aktifnya customer (tidak melakukan pembelian) sejak pembelian terakhir. caranya? sebagai berikut:"
      ],
      "metadata": {
        "id": "jr8nlEGA1p2b"
      }
    },
    {
      "cell_type": "markdown",
      "source": [
        "Ambil setiap ID yang ada"
      ],
      "metadata": {
        "id": "53dB2KyE1p2b"
      }
    },
    {
      "cell_type": "code",
      "source": [
        "main_df = pd.DataFrame(df2['CustomerID'].unique())\n",
        "main_df.columns = ['CustomerID']\n",
        "main_df.head()"
      ],
      "metadata": {
        "execution": {
          "iopub.status.busy": "2024-05-15T19:26:30.451515Z",
          "iopub.execute_input": "2024-05-15T19:26:30.451823Z",
          "iopub.status.idle": "2024-05-15T19:26:30.470713Z",
          "shell.execute_reply.started": "2024-05-15T19:26:30.451793Z",
          "shell.execute_reply": "2024-05-15T19:26:30.469526Z"
        },
        "trusted": true,
        "id": "yZBm-Iqz1p2b"
      },
      "execution_count": null,
      "outputs": []
    },
    {
      "cell_type": "markdown",
      "source": [
        "Ambil waktu pembelian paling akhir (latest purchase) untuk setiap ID"
      ],
      "metadata": {
        "id": "lhPi6uaZ1p2c"
      }
    },
    {
      "cell_type": "code",
      "source": [
        "latest_purchase = uk.groupby('CustomerID').InvoiceDate.max().reset_index()\n",
        "latest_purchase.columns = ['CustomerID','LatestPurchaseDate']\n",
        "latest_purchase.head()"
      ],
      "metadata": {
        "execution": {
          "iopub.status.busy": "2024-05-15T19:26:30.471911Z",
          "iopub.execute_input": "2024-05-15T19:26:30.472259Z",
          "iopub.status.idle": "2024-05-15T19:26:30.502321Z",
          "shell.execute_reply.started": "2024-05-15T19:26:30.472226Z",
          "shell.execute_reply": "2024-05-15T19:26:30.50127Z"
        },
        "trusted": true,
        "id": "Wk9gskmY1p2c"
      },
      "execution_count": null,
      "outputs": []
    },
    {
      "cell_type": "markdown",
      "source": [
        "Hitung Recency, rumusnya:\n",
        "\n",
        "Recency = titik waktu observasi - jumlah hari pembelian terakhir\n",
        "\n",
        "*kita gunakan waktu yang paling terkini (the latest) sebagai titik waktu observasi."
      ],
      "metadata": {
        "id": "1dPvbFVt1p2c"
      }
    },
    {
      "cell_type": "code",
      "source": [
        "latest_purchase['Recency'] = (latest_purchase['LatestPurchaseDate'].max() - latest_purchase['LatestPurchaseDate']).dt.days\n",
        "latest_purchase.head()"
      ],
      "metadata": {
        "execution": {
          "iopub.status.busy": "2024-05-15T19:26:30.504028Z",
          "iopub.execute_input": "2024-05-15T19:26:30.504406Z",
          "iopub.status.idle": "2024-05-15T19:26:30.523978Z",
          "shell.execute_reply.started": "2024-05-15T19:26:30.504371Z",
          "shell.execute_reply": "2024-05-15T19:26:30.523051Z"
        },
        "trusted": true,
        "id": "5IG95Gto1p2c"
      },
      "execution_count": null,
      "outputs": []
    },
    {
      "cell_type": "markdown",
      "source": [
        "Munculkan kolom CustomerID dan Recency\n",
        "\n",
        "Caranya bebas terserah kalian, kali ini saya akan gunakan merge."
      ],
      "metadata": {
        "id": "lBBnf60G1p2d"
      }
    },
    {
      "cell_type": "code",
      "source": [
        "main_df = pd.merge(main_df, latest_purchase[['CustomerID','Recency']], on='CustomerID')\n",
        "main_df.head()"
      ],
      "metadata": {
        "execution": {
          "iopub.status.busy": "2024-05-15T19:26:30.527383Z",
          "iopub.execute_input": "2024-05-15T19:26:30.52782Z",
          "iopub.status.idle": "2024-05-15T19:26:30.554395Z",
          "shell.execute_reply.started": "2024-05-15T19:26:30.52778Z",
          "shell.execute_reply": "2024-05-15T19:26:30.553248Z"
        },
        "trusted": true,
        "id": "zmexRx_E1p2d"
      },
      "execution_count": null,
      "outputs": []
    },
    {
      "cell_type": "markdown",
      "source": [
        "Plot distribusi Recency valuenya"
      ],
      "metadata": {
        "id": "L6PMOEkF1p2e"
      }
    },
    {
      "cell_type": "code",
      "source": [
        "sns.distplot(main_df['Recency'], kde=False, bins=50)\n",
        "plt.title('Distribusi Value Recency', fontsize = 20)\n",
        "plt.xlabel('Recency')\n",
        "plt.ylabel('count');"
      ],
      "metadata": {
        "execution": {
          "iopub.status.busy": "2024-05-15T19:26:30.555758Z",
          "iopub.execute_input": "2024-05-15T19:26:30.556207Z",
          "iopub.status.idle": "2024-05-15T19:26:30.842452Z",
          "shell.execute_reply.started": "2024-05-15T19:26:30.556158Z",
          "shell.execute_reply": "2024-05-15T19:26:30.841281Z"
        },
        "trusted": true,
        "id": "yLhPbfHX1p2e"
      },
      "execution_count": null,
      "outputs": []
    },
    {
      "cell_type": "markdown",
      "source": [
        "Distribusi Recencynya skewed ke kanan"
      ],
      "metadata": {
        "id": "AXcZ13U71p2e"
      }
    },
    {
      "cell_type": "markdown",
      "source": [
        "### 2. Tentukan Jumlah Cluster"
      ],
      "metadata": {
        "id": "WGo0YyHp1p2e"
      }
    },
    {
      "cell_type": "markdown",
      "source": [
        "Untuk menentukan jumlah clusternya kita akan pakai inertia analysis"
      ],
      "metadata": {
        "id": "-81DW1I61p2e"
      }
    },
    {
      "cell_type": "code",
      "source": [
        "from sklearn.cluster import KMeans"
      ],
      "metadata": {
        "execution": {
          "iopub.status.busy": "2024-05-15T19:26:30.844166Z",
          "iopub.execute_input": "2024-05-15T19:26:30.844858Z",
          "iopub.status.idle": "2024-05-15T19:26:31.112238Z",
          "shell.execute_reply.started": "2024-05-15T19:26:30.844802Z",
          "shell.execute_reply": "2024-05-15T19:26:31.111348Z"
        },
        "trusted": true,
        "id": "-naGyCuC1p2f"
      },
      "execution_count": null,
      "outputs": []
    },
    {
      "cell_type": "code",
      "source": [
        "score = []\n",
        "for k in range(1, 15):\n",
        "    kmeans = KMeans(n_clusters=k)\n",
        "    member = kmeans.fit_predict(np.array(main_df['Recency']).reshape(-1, 1))\n",
        "    score.append(kmeans.inertia_)\n",
        "\n",
        "plt.figure(figsize=(10, 5))\n",
        "plt.plot(range(1, 15), score)\n",
        "plt.ylabel(\"Inertia\")\n",
        "plt.xlabel(\"n_clusters\");"
      ],
      "metadata": {
        "scrolled": true,
        "execution": {
          "iopub.status.busy": "2024-05-15T19:26:31.113755Z",
          "iopub.execute_input": "2024-05-15T19:26:31.114429Z",
          "iopub.status.idle": "2024-05-15T19:26:32.875428Z",
          "shell.execute_reply.started": "2024-05-15T19:26:31.114379Z",
          "shell.execute_reply": "2024-05-15T19:26:32.873717Z"
        },
        "trusted": true,
        "id": "BRH9fljZ1p2f"
      },
      "execution_count": null,
      "outputs": []
    },
    {
      "cell_type": "markdown",
      "source": [
        "Setelah melihat plot diatas, saya putuskan untuk menggunakan 4 kelas, karena 4 merupakan siku yang paling tidak tajam penurunannya.\n",
        "\n",
        "Step selanjutnya, hitung Recency score"
      ],
      "metadata": {
        "id": "DLORrEvh1p2f"
      }
    },
    {
      "cell_type": "markdown",
      "source": [
        "### 3. Hitung Recency Score"
      ],
      "metadata": {
        "id": "s1gnTGcc1p2f"
      }
    },
    {
      "cell_type": "code",
      "source": [
        "kmeans = KMeans(n_clusters=4)\n",
        "kmeans.fit(main_df[['Recency']])\n",
        "main_df['RecencyCluster'] = kmeans.predict(main_df[['Recency']])\n",
        "main_df.head()"
      ],
      "metadata": {
        "execution": {
          "iopub.status.busy": "2024-05-15T19:26:32.87781Z",
          "iopub.execute_input": "2024-05-15T19:26:32.878373Z",
          "iopub.status.idle": "2024-05-15T19:26:33.00482Z",
          "shell.execute_reply.started": "2024-05-15T19:26:32.878314Z",
          "shell.execute_reply": "2024-05-15T19:26:33.003611Z"
        },
        "trusted": true,
        "id": "mnw2UqVT1p2f"
      },
      "execution_count": null,
      "outputs": []
    },
    {
      "cell_type": "markdown",
      "source": [
        "cek snapshot (describe) Recency yang sudah kita buat\n",
        "\n",
        "Ingat, cluster dibawah belum diurutkan, kita belum mengetahui kasta clusternya."
      ],
      "metadata": {
        "id": "XB6WDbLf1p2g"
      }
    },
    {
      "cell_type": "code",
      "source": [
        "main_df.groupby('RecencyCluster')['Recency'].describe()"
      ],
      "metadata": {
        "execution": {
          "iopub.status.busy": "2024-05-15T19:26:33.006375Z",
          "iopub.execute_input": "2024-05-15T19:26:33.007024Z",
          "iopub.status.idle": "2024-05-15T19:26:33.049513Z",
          "shell.execute_reply.started": "2024-05-15T19:26:33.006965Z",
          "shell.execute_reply": "2024-05-15T19:26:33.048295Z"
        },
        "trusted": true,
        "id": "IR1xMe0c1p2g"
      },
      "execution_count": null,
      "outputs": []
    },
    {
      "cell_type": "markdown",
      "source": [
        "Untuk mengetahui kasta urutan valuenya kita akan menggunakan function berikut"
      ],
      "metadata": {
        "id": "uIOmDUpj1p2g"
      }
    },
    {
      "cell_type": "code",
      "source": [
        "def order_cluster(cluster_field_name, target_field_name,df,ascending):\n",
        "    new_cluster_field_name = 'new_' + cluster_field_name\n",
        "    df_new = df.groupby(cluster_field_name)[target_field_name].mean().reset_index()\n",
        "    df_new = df_new.sort_values(by=target_field_name,ascending=ascending).reset_index(drop=True)\n",
        "    df_new['index'] = df_new.index\n",
        "    df_final = pd.merge(df,df_new[[cluster_field_name,'index']], on=cluster_field_name)\n",
        "    df_final = df_final.drop([cluster_field_name],axis=1)\n",
        "    df_final = df_final.rename(columns={\"index\":cluster_field_name})\n",
        "    return df_final"
      ],
      "metadata": {
        "execution": {
          "iopub.status.busy": "2024-05-15T19:26:33.051226Z",
          "iopub.execute_input": "2024-05-15T19:26:33.051987Z",
          "iopub.status.idle": "2024-05-15T19:26:33.063Z",
          "shell.execute_reply.started": "2024-05-15T19:26:33.051936Z",
          "shell.execute_reply": "2024-05-15T19:26:33.061931Z"
        },
        "trusted": true,
        "id": "UdQByc051p2h"
      },
      "execution_count": null,
      "outputs": []
    },
    {
      "cell_type": "markdown",
      "source": [
        "Berikut adalah cluster yang sudah diurutkan:"
      ],
      "metadata": {
        "id": "sFXMnfto1p2h"
      }
    },
    {
      "cell_type": "code",
      "source": [
        "main_df = order_cluster('RecencyCluster', 'Recency',main_df,False)\n",
        "main_df.head()"
      ],
      "metadata": {
        "execution": {
          "iopub.status.busy": "2024-05-15T19:26:33.064743Z",
          "iopub.execute_input": "2024-05-15T19:26:33.065574Z",
          "iopub.status.idle": "2024-05-15T19:26:33.104091Z",
          "shell.execute_reply.started": "2024-05-15T19:26:33.06552Z",
          "shell.execute_reply": "2024-05-15T19:26:33.103095Z"
        },
        "trusted": true,
        "id": "6rfxQcEI1p2j"
      },
      "execution_count": null,
      "outputs": []
    },
    {
      "cell_type": "code",
      "source": [
        "main_df.groupby('RecencyCluster')['Recency'].describe()"
      ],
      "metadata": {
        "execution": {
          "iopub.status.busy": "2024-05-15T19:26:33.108911Z",
          "iopub.execute_input": "2024-05-15T19:26:33.111421Z",
          "iopub.status.idle": "2024-05-15T19:26:33.153903Z",
          "shell.execute_reply.started": "2024-05-15T19:26:33.111364Z",
          "shell.execute_reply": "2024-05-15T19:26:33.152904Z"
        },
        "trusted": true,
        "id": "uEEVX5301p2j"
      },
      "execution_count": null,
      "outputs": []
    },
    {
      "cell_type": "markdown",
      "source": [
        "Step selanjutnya lakukan hal yang sama kepada Frequency dan Monetary value"
      ],
      "metadata": {
        "id": "6w7_n2ri1p2j"
      }
    },
    {
      "cell_type": "markdown",
      "source": [
        "## Frequency"
      ],
      "metadata": {
        "id": "xnCPecG61p2j"
      }
    },
    {
      "cell_type": "markdown",
      "source": [
        "### 1. Hitung Frequency Value\n",
        "\n",
        "Untuk menghitung Frequency, cukup gunakan kolom Frequency yang ada"
      ],
      "metadata": {
        "id": "GrS4kIaL1p2j"
      }
    },
    {
      "cell_type": "markdown",
      "source": [
        "Ambil kolom CustomerID dan Frequency"
      ],
      "metadata": {
        "id": "dkFgyLfB1p2k"
      }
    },
    {
      "cell_type": "code",
      "source": [
        "frequency = uk.groupby('CustomerID').InvoiceDate.count().reset_index()\n",
        "frequency.columns = ['CustomerID','Frequency']\n",
        "frequency.head()"
      ],
      "metadata": {
        "execution": {
          "iopub.status.busy": "2024-05-15T19:26:33.158906Z",
          "iopub.execute_input": "2024-05-15T19:26:33.161583Z",
          "iopub.status.idle": "2024-05-15T19:26:33.19959Z",
          "shell.execute_reply.started": "2024-05-15T19:26:33.161522Z",
          "shell.execute_reply": "2024-05-15T19:26:33.198476Z"
        },
        "trusted": true,
        "id": "uzim_qYi1p2k"
      },
      "execution_count": null,
      "outputs": []
    },
    {
      "cell_type": "markdown",
      "source": [
        "Merge dengan dataframe recency yang tadi sudah dibuat"
      ],
      "metadata": {
        "id": "FMhST1p21p2k"
      }
    },
    {
      "cell_type": "code",
      "source": [
        "main_df = pd.merge(main_df, frequency, on='CustomerID')\n",
        "main_df.head()"
      ],
      "metadata": {
        "execution": {
          "iopub.status.busy": "2024-05-15T19:26:33.201115Z",
          "iopub.execute_input": "2024-05-15T19:26:33.201633Z",
          "iopub.status.idle": "2024-05-15T19:26:33.228548Z",
          "shell.execute_reply.started": "2024-05-15T19:26:33.201583Z",
          "shell.execute_reply": "2024-05-15T19:26:33.227315Z"
        },
        "trusted": true,
        "id": "R0e05C701p2k"
      },
      "execution_count": null,
      "outputs": []
    },
    {
      "cell_type": "markdown",
      "source": [
        "Cek snapshot Frequency"
      ],
      "metadata": {
        "id": "gMqxINen1p2k"
      }
    },
    {
      "cell_type": "code",
      "source": [
        "main_df.Frequency.describe()"
      ],
      "metadata": {
        "execution": {
          "iopub.status.busy": "2024-05-15T19:26:33.230279Z",
          "iopub.execute_input": "2024-05-15T19:26:33.230772Z",
          "iopub.status.idle": "2024-05-15T19:26:33.243114Z",
          "shell.execute_reply.started": "2024-05-15T19:26:33.230715Z",
          "shell.execute_reply": "2024-05-15T19:26:33.241754Z"
        },
        "trusted": true,
        "id": "Z1A7_V9g1p2k"
      },
      "execution_count": null,
      "outputs": []
    },
    {
      "cell_type": "markdown",
      "source": [
        "Plot Distribusi Value Frequency"
      ],
      "metadata": {
        "id": "cRRVlfnj1p2l"
      }
    },
    {
      "cell_type": "code",
      "source": [
        "sns.distplot(main_df['Frequency'], kde=False, bins=50)\n",
        "plt.title('Distribusi Value Frequency', fontsize = 20)\n",
        "plt.xlabel('Frequency')\n",
        "plt.ylabel('count');"
      ],
      "metadata": {
        "execution": {
          "iopub.status.busy": "2024-05-15T19:26:33.244858Z",
          "iopub.execute_input": "2024-05-15T19:26:33.245363Z",
          "iopub.status.idle": "2024-05-15T19:26:33.534666Z",
          "shell.execute_reply.started": "2024-05-15T19:26:33.245315Z",
          "shell.execute_reply": "2024-05-15T19:26:33.53371Z"
        },
        "trusted": true,
        "id": "HMNCzZFq1p2l"
      },
      "execution_count": null,
      "outputs": []
    },
    {
      "cell_type": "markdown",
      "source": [
        "### 2. Tentukan Jumlah Cluster"
      ],
      "metadata": {
        "id": "WwlWiFnV1p2l"
      }
    },
    {
      "cell_type": "code",
      "source": [
        "score = []\n",
        "for k in range(1, 15):\n",
        "    kmeans = KMeans(n_clusters=k)\n",
        "    member = kmeans.fit_predict(np.array(main_df['Frequency']).reshape(-1, 1))\n",
        "    score.append(kmeans.inertia_)\n",
        "\n",
        "plt.figure(figsize=(10, 5))\n",
        "plt.plot(range(1, 15), score)\n",
        "plt.ylabel(\"Inertia\")\n",
        "plt.xlabel(\"n_clusters\");"
      ],
      "metadata": {
        "execution": {
          "iopub.status.busy": "2024-05-15T19:26:33.535837Z",
          "iopub.execute_input": "2024-05-15T19:26:33.536163Z",
          "iopub.status.idle": "2024-05-15T19:26:35.245042Z",
          "shell.execute_reply.started": "2024-05-15T19:26:33.536115Z",
          "shell.execute_reply": "2024-05-15T19:26:35.243922Z"
        },
        "trusted": true,
        "id": "pJK39Ox71p2l"
      },
      "execution_count": null,
      "outputs": []
    },
    {
      "cell_type": "markdown",
      "source": [
        "Sama seperti Recency, kita akan gunakan 4 cluster"
      ],
      "metadata": {
        "id": "eBw0PSAF1p2l"
      }
    },
    {
      "cell_type": "markdown",
      "source": [
        "### 3. Hitung Frequency Score"
      ],
      "metadata": {
        "id": "7thAQjN11p2l"
      }
    },
    {
      "cell_type": "code",
      "source": [
        "kmeans = KMeans(n_clusters=4)\n",
        "kmeans.fit(main_df[['Frequency']])\n",
        "main_df['FrequencyCluster'] = kmeans.predict(main_df[['Frequency']])\n",
        "main_df.head()"
      ],
      "metadata": {
        "execution": {
          "iopub.status.busy": "2024-05-15T19:26:35.246791Z",
          "iopub.execute_input": "2024-05-15T19:26:35.247209Z",
          "iopub.status.idle": "2024-05-15T19:26:35.387674Z",
          "shell.execute_reply.started": "2024-05-15T19:26:35.247169Z",
          "shell.execute_reply": "2024-05-15T19:26:35.386583Z"
        },
        "trusted": true,
        "id": "ON2YzFYr1p2m"
      },
      "execution_count": null,
      "outputs": []
    },
    {
      "cell_type": "markdown",
      "source": [
        "Urutkan\n",
        "\n",
        "Berikut adalah hasil cluster Frequency yang sudah dibuat"
      ],
      "metadata": {
        "id": "-N3F9bSK1p2m"
      }
    },
    {
      "cell_type": "code",
      "source": [
        "main_df = order_cluster('FrequencyCluster', 'Frequency',main_df,True)\n",
        "main_df.head()"
      ],
      "metadata": {
        "execution": {
          "iopub.status.busy": "2024-05-15T19:26:35.392728Z",
          "iopub.execute_input": "2024-05-15T19:26:35.393189Z",
          "iopub.status.idle": "2024-05-15T19:26:35.449921Z",
          "shell.execute_reply.started": "2024-05-15T19:26:35.393149Z",
          "shell.execute_reply": "2024-05-15T19:26:35.448557Z"
        },
        "trusted": true,
        "id": "JqLEgAZG1p2m"
      },
      "execution_count": null,
      "outputs": []
    },
    {
      "cell_type": "markdown",
      "source": [
        "Kondisi detil cluster Frequency"
      ],
      "metadata": {
        "id": "VDlZasFS1p2m"
      }
    },
    {
      "cell_type": "code",
      "source": [
        "main_df.groupby('FrequencyCluster')['Frequency'].describe()"
      ],
      "metadata": {
        "execution": {
          "iopub.status.busy": "2024-05-15T19:26:35.451819Z",
          "iopub.execute_input": "2024-05-15T19:26:35.452346Z",
          "iopub.status.idle": "2024-05-15T19:26:35.525577Z",
          "shell.execute_reply.started": "2024-05-15T19:26:35.452295Z",
          "shell.execute_reply": "2024-05-15T19:26:35.524578Z"
        },
        "trusted": true,
        "id": "BW2Fb6hq1p2m"
      },
      "execution_count": null,
      "outputs": []
    },
    {
      "cell_type": "markdown",
      "source": [
        "## Monetary Value (Revenue)"
      ],
      "metadata": {
        "id": "yDla84CB1p2m"
      }
    },
    {
      "cell_type": "markdown",
      "source": [
        "### 1. Hitung Monetary Value\n",
        "\n",
        "Untuk menghitung Monetary Value, cukup kalikan UnitPrice dengan Quantity"
      ],
      "metadata": {
        "id": "QdSMJg1A1p2n"
      }
    },
    {
      "cell_type": "code",
      "source": [
        "uk['Revenue'] = uk['UnitPrice'] * uk['Quantity']\n",
        "revenue = uk.groupby('CustomerID').Revenue.sum().reset_index()\n",
        "revenue.head()"
      ],
      "metadata": {
        "execution": {
          "iopub.status.busy": "2024-05-15T19:26:35.530401Z",
          "iopub.execute_input": "2024-05-15T19:26:35.530811Z",
          "iopub.status.idle": "2024-05-15T19:26:35.578524Z",
          "shell.execute_reply.started": "2024-05-15T19:26:35.530771Z",
          "shell.execute_reply": "2024-05-15T19:26:35.577372Z"
        },
        "trusted": true,
        "id": "Emr6Ziw71p2n"
      },
      "execution_count": null,
      "outputs": []
    },
    {
      "cell_type": "markdown",
      "source": [
        "merge dataframe"
      ],
      "metadata": {
        "id": "6s3FCUL11p2n"
      }
    },
    {
      "cell_type": "code",
      "source": [
        "main_df = pd.merge(main_df, revenue, on='CustomerID')\n",
        "main_df.head()"
      ],
      "metadata": {
        "execution": {
          "iopub.status.busy": "2024-05-15T19:26:35.580038Z",
          "iopub.execute_input": "2024-05-15T19:26:35.580673Z",
          "iopub.status.idle": "2024-05-15T19:26:35.605036Z",
          "shell.execute_reply.started": "2024-05-15T19:26:35.580624Z",
          "shell.execute_reply": "2024-05-15T19:26:35.603902Z"
        },
        "trusted": true,
        "id": "UAO6I7Nh1p2n"
      },
      "execution_count": null,
      "outputs": []
    },
    {
      "cell_type": "code",
      "source": [
        "main_df['Revenue'].describe()"
      ],
      "metadata": {
        "execution": {
          "iopub.status.busy": "2024-05-15T19:26:35.606726Z",
          "iopub.execute_input": "2024-05-15T19:26:35.607141Z",
          "iopub.status.idle": "2024-05-15T19:26:35.619313Z",
          "shell.execute_reply.started": "2024-05-15T19:26:35.607088Z",
          "shell.execute_reply": "2024-05-15T19:26:35.618112Z"
        },
        "trusted": true,
        "id": "F1z9vz_W1p2n"
      },
      "execution_count": null,
      "outputs": []
    },
    {
      "cell_type": "code",
      "source": [
        "sns.distplot(main_df['Revenue'], kde=False, bins=50)\n",
        "plt.title('Distribusi Revenue', fontsize = 20)\n",
        "plt.xlabel('Revenue')\n",
        "plt.ylabel('count');"
      ],
      "metadata": {
        "execution": {
          "iopub.status.busy": "2024-05-15T19:26:35.621089Z",
          "iopub.execute_input": "2024-05-15T19:26:35.62157Z",
          "iopub.status.idle": "2024-05-15T19:26:35.890706Z",
          "shell.execute_reply.started": "2024-05-15T19:26:35.621522Z",
          "shell.execute_reply": "2024-05-15T19:26:35.88963Z"
        },
        "trusted": true,
        "id": "T1L7vIdw1p2o"
      },
      "execution_count": null,
      "outputs": []
    },
    {
      "cell_type": "markdown",
      "source": [
        "### 2. Tentukan Jumlah Cluster"
      ],
      "metadata": {
        "id": "nqngqHX71p2o"
      }
    },
    {
      "cell_type": "code",
      "source": [
        "score = []\n",
        "for k in range(1, 15):\n",
        "    kmeans = KMeans(n_clusters=k)\n",
        "    member = kmeans.fit_predict(np.array(main_df['Revenue']).reshape(-1, 1))\n",
        "    score.append(kmeans.inertia_)\n",
        "\n",
        "plt.figure(figsize=(10, 5))\n",
        "plt.plot(range(1, 15), score)\n",
        "plt.ylabel(\"Inertia\")\n",
        "plt.xlabel(\"n_clusters\");"
      ],
      "metadata": {
        "execution": {
          "iopub.status.busy": "2024-05-15T19:26:35.892314Z",
          "iopub.execute_input": "2024-05-15T19:26:35.892794Z",
          "iopub.status.idle": "2024-05-15T19:26:37.428463Z",
          "shell.execute_reply.started": "2024-05-15T19:26:35.892743Z",
          "shell.execute_reply": "2024-05-15T19:26:37.427279Z"
        },
        "trusted": true,
        "id": "gjCg8XM21p2o"
      },
      "execution_count": null,
      "outputs": []
    },
    {
      "cell_type": "markdown",
      "source": [
        "### 3. Hitung Monetary Score"
      ],
      "metadata": {
        "id": "zO83Rlsu1p2o"
      }
    },
    {
      "cell_type": "code",
      "source": [
        "kmeans = KMeans(n_clusters=4)\n",
        "kmeans.fit(main_df[['Revenue']])\n",
        "main_df['RevenueCluster'] = kmeans.predict(main_df[['Revenue']])\n",
        "main_df.head()"
      ],
      "metadata": {
        "execution": {
          "iopub.status.busy": "2024-05-15T19:26:37.430228Z",
          "iopub.execute_input": "2024-05-15T19:26:37.430639Z",
          "iopub.status.idle": "2024-05-15T19:26:37.535942Z",
          "shell.execute_reply.started": "2024-05-15T19:26:37.430602Z",
          "shell.execute_reply": "2024-05-15T19:26:37.534926Z"
        },
        "trusted": true,
        "id": "mi6iYIHP1p2o"
      },
      "execution_count": null,
      "outputs": []
    },
    {
      "cell_type": "markdown",
      "source": [
        "Urutkan"
      ],
      "metadata": {
        "id": "3pvp2vrT1p2o"
      }
    },
    {
      "cell_type": "code",
      "source": [
        "main_df = order_cluster('RevenueCluster', 'Revenue',main_df,True)\n",
        "main_df.head()"
      ],
      "metadata": {
        "execution": {
          "iopub.status.busy": "2024-05-15T19:26:37.537806Z",
          "iopub.execute_input": "2024-05-15T19:26:37.538289Z",
          "iopub.status.idle": "2024-05-15T19:26:37.572895Z",
          "shell.execute_reply.started": "2024-05-15T19:26:37.538242Z",
          "shell.execute_reply": "2024-05-15T19:26:37.571629Z"
        },
        "trusted": true,
        "id": "mSs7YNCn1p2o"
      },
      "execution_count": null,
      "outputs": []
    },
    {
      "cell_type": "markdown",
      "source": [
        "Berikut adalah gambaran cluster Monetary Value"
      ],
      "metadata": {
        "id": "v_Qd7JGU1p2p"
      }
    },
    {
      "cell_type": "code",
      "source": [
        "main_df.groupby('RevenueCluster')['Revenue'].describe()"
      ],
      "metadata": {
        "execution": {
          "iopub.status.busy": "2024-05-15T19:26:37.574687Z",
          "iopub.execute_input": "2024-05-15T19:26:37.575164Z",
          "iopub.status.idle": "2024-05-15T19:26:37.61257Z",
          "shell.execute_reply.started": "2024-05-15T19:26:37.5751Z",
          "shell.execute_reply": "2024-05-15T19:26:37.61136Z"
        },
        "trusted": true,
        "id": "4Pw9zjjy1p2p"
      },
      "execution_count": null,
      "outputs": []
    },
    {
      "cell_type": "markdown",
      "source": [
        "## Hitung Score RFM secara keseluruhan"
      ],
      "metadata": {
        "id": "uDPvEK3e1p2p"
      }
    },
    {
      "cell_type": "markdown",
      "source": [
        "Aturan perhitungan score:\n",
        "\n",
        "- Recency: semakin rendah value Recency, semakin tinggi score nya.\n",
        "- Frequency: semakin tinggi value Frequency, semakin tinggi scorenya.\n",
        "- Monetary: semakin tinggi value Monetary, semakin tinggi scorenya."
      ],
      "metadata": {
        "id": "E0Q9Gqui1p2q"
      }
    },
    {
      "cell_type": "code",
      "source": [
        "main_df['RFM_score'] = main_df['RecencyCluster'] + main_df['FrequencyCluster'] + main_df['RevenueCluster']\n",
        "main_df.head()"
      ],
      "metadata": {
        "execution": {
          "iopub.status.busy": "2024-05-15T19:26:37.614205Z",
          "iopub.execute_input": "2024-05-15T19:26:37.614661Z",
          "iopub.status.idle": "2024-05-15T19:26:37.636324Z",
          "shell.execute_reply.started": "2024-05-15T19:26:37.614614Z",
          "shell.execute_reply": "2024-05-15T19:26:37.635187Z"
        },
        "trusted": true,
        "id": "pM4mRXY11p2q"
      },
      "execution_count": null,
      "outputs": []
    },
    {
      "cell_type": "code",
      "source": [
        "main_df['RFM_score'].unique()"
      ],
      "metadata": {
        "execution": {
          "iopub.status.busy": "2024-05-15T19:26:37.63803Z",
          "iopub.execute_input": "2024-05-15T19:26:37.638656Z",
          "iopub.status.idle": "2024-05-15T19:26:37.647424Z",
          "shell.execute_reply.started": "2024-05-15T19:26:37.638607Z",
          "shell.execute_reply": "2024-05-15T19:26:37.646222Z"
        },
        "trusted": true,
        "id": "Qd0xFm001p2w"
      },
      "execution_count": null,
      "outputs": []
    },
    {
      "cell_type": "markdown",
      "source": [
        "Score tertinggi yang kita miliki adalah 8 (dari total 9, R=3, F=3, M=3)"
      ],
      "metadata": {
        "id": "QmNRZ14x1p2x"
      }
    },
    {
      "cell_type": "code",
      "source": [
        "main_df.groupby('RFM_score')['Recency','Frequency','Revenue'].mean()\n",
        "main_df.head()"
      ],
      "metadata": {
        "execution": {
          "iopub.status.busy": "2024-05-15T19:26:37.648937Z",
          "iopub.execute_input": "2024-05-15T19:26:37.649426Z",
          "iopub.status.idle": "2024-05-15T19:26:37.677548Z",
          "shell.execute_reply.started": "2024-05-15T19:26:37.649379Z",
          "shell.execute_reply": "2024-05-15T19:26:37.676449Z"
        },
        "trusted": true,
        "id": "HV2hkaUp1p2x"
      },
      "execution_count": null,
      "outputs": []
    },
    {
      "cell_type": "markdown",
      "source": [
        "Binning.\n",
        "\n",
        "Dibawah 2 adalah low value\n",
        "Diantara 2-4 adalah mid value\n",
        "Di"
      ],
      "metadata": {
        "id": "GY1XvFVy1p2z"
      }
    },
    {
      "cell_type": "code",
      "source": [
        "main_df['label'] = 'Bronze'\n",
        "main_df.loc[main_df['RFM_score'] > 1, 'label'] = 'Silver'\n",
        "main_df.loc[main_df['RFM_score'] > 2, 'label'] = 'Gold'\n",
        "main_df.loc[main_df['RFM_score'] > 3, 'label'] = 'Platinum'\n",
        "main_df.loc[main_df['RFM_score'] > 5, 'label'] = 'Diamond'\n",
        "\n",
        "main_df.head()"
      ],
      "metadata": {
        "execution": {
          "iopub.status.busy": "2024-05-15T19:26:37.68215Z",
          "iopub.execute_input": "2024-05-15T19:26:37.682548Z",
          "iopub.status.idle": "2024-05-15T19:26:37.723321Z",
          "shell.execute_reply.started": "2024-05-15T19:26:37.68251Z",
          "shell.execute_reply": "2024-05-15T19:26:37.722412Z"
        },
        "trusted": true,
        "id": "em76Zb6c1p20"
      },
      "execution_count": null,
      "outputs": []
    },
    {
      "cell_type": "markdown",
      "source": [
        "Berikut adalah bar plot dari label yang sudah dibuat"
      ],
      "metadata": {
        "id": "jHX1Tbjv1p20"
      }
    },
    {
      "cell_type": "code",
      "source": [
        "barplot = dict(main_df['label'].value_counts())\n",
        "bar_names = list(barplot.keys())\n",
        "bar_values = list(barplot.values())\n",
        "plt.bar(bar_names,bar_values)\n",
        "print(pd.DataFrame(barplot, index=[' ']))"
      ],
      "metadata": {
        "execution": {
          "iopub.status.busy": "2024-05-15T19:26:37.72523Z",
          "iopub.execute_input": "2024-05-15T19:26:37.725693Z",
          "iopub.status.idle": "2024-05-15T19:26:37.878175Z",
          "shell.execute_reply.started": "2024-05-15T19:26:37.725646Z",
          "shell.execute_reply": "2024-05-15T19:26:37.876997Z"
        },
        "trusted": true,
        "id": "Fanl0Grk1p20"
      },
      "execution_count": null,
      "outputs": []
    },
    {
      "cell_type": "markdown",
      "source": [
        "## Kesimpulan"
      ],
      "metadata": {
        "id": "oTswHfrB1p20"
      }
    },
    {
      "cell_type": "markdown",
      "source": [
        "Segmentasi RFM adalah metode yang mudah untuk membuat segmentasi pelanggan. Outputnya intuitif, sehingga mudah untuk difahami dan di interpretasikan oleh pihak marketing nantinya. Namun dibalik kemudahannya, metode RFM memiliki beberapa kekurangan, yaitu:\n",
        "\n",
        "- Perhitungan segmentasi RFM hanya memperhatikan tiga faktor saja (Recency, Frequency, dan Monetary Value), dan mengabaikan faktor lain yang sama atau mungkin bisa jadi lebih penting (seperti rincian demografis, jenis produk, dll)\n",
        "\n",
        "- Segmentasi customer RFM adalah segmentasi yang memakai metode historical, yang artinya penilaian segmentasi hanya berdasarkan data masa lalu, yang mungkin tidak bisa menggambarkan kondisi customer di masa depan dengan baik.\n",
        "\n",
        "Jadi, jangan mengambil keputusan hanya berdasarkan segmentasi RFM saja, perhatikan juga analisa model yang lain agar lebih luas point of view kita dalam mengambil keputusan.\n",
        "\n",
        "Lalu antara Library Lifetimes dan K means, mana yang lebih baik? Jika dataset kalian tidak memiliki missing values, saya pribadi lebih merekomendasikan untuk pakai library saja, karena lebih cepat, mudah, dan praktis. Jika dataset kalian ada missing valuesnya, kalian bisa lakukan impute untuk mengisi missing valuesmya, tapi tentu saja hal itu akan mengurangi kepraktisan yang kita harapkan dari library.\n",
        "\n",
        "Mungkin itu saja dari saya, jika ada pertanyaan atau masukan, bisa kalian tulis di kolom komentar atau boleh japri di ig saya: al.fath.terry\n",
        "\n",
        "Dan... mohon di upvote jika dirasa bermanfaat.\n",
        "\n",
        "silahkan cek juga notebook saya yang lain...\n",
        "\n",
        "Terimakasih :)"
      ],
      "metadata": {
        "id": "gXJvVOLV1p20"
      }
    },
    {
      "cell_type": "code",
      "source": [],
      "metadata": {
        "id": "TNA4oBsL1p21"
      },
      "execution_count": null,
      "outputs": []
    }
  ]
}